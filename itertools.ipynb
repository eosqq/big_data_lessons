{
 "cells": [
  {
   "cell_type": "code",
   "execution_count": 4,
   "metadata": {},
   "outputs": [],
   "source": [
    "import functools\n",
    "from itertools import groupby"
   ]
  },
  {
   "cell_type": "markdown",
   "metadata": {},
   "source": [
    "Аналог sql запроса (select country, count() from data groupby country order country)"
   ]
  },
  {
   "cell_type": "code",
   "execution_count": 27,
   "metadata": {},
   "outputs": [
    {
     "data": {
      "text/plain": [
       "<itertools.groupby at 0x1faaee536a0>"
      ]
     },
     "execution_count": 27,
     "metadata": {},
     "output_type": "execute_result"
    }
   ],
   "source": [
    "def grouper(item):\n",
    "    return item['country']\n",
    "\n",
    "data = [\n",
    "    {'city': 'Москва', 'country': 'Россия'},\n",
    "    {'city': 'Новосибирск', 'country': 'Россия'},\n",
    "    {'city': 'Пекин', 'country': 'Китай'}\n",
    "]\n",
    "\n",
    "groupby(data, key=grouper)"
   ]
  },
  {
   "cell_type": "code",
   "execution_count": 21,
   "metadata": {},
   "outputs": [
    {
     "data": {
      "text/plain": [
       "[{'city': 'Пекин', 'country': 'Китай'},\n",
       " {'city': 'Москва', 'country': 'Россия'},\n",
       " {'city': 'Новосибирск', 'country': 'Россия'}]"
      ]
     },
     "execution_count": 21,
     "metadata": {},
     "output_type": "execute_result"
    }
   ],
   "source": [
    "sorted(data, key=grouper)"
   ]
  },
  {
   "cell_type": "markdown",
   "metadata": {},
   "source": [
    "принт Селект запроса"
   ]
  },
  {
   "cell_type": "code",
   "execution_count": 20,
   "metadata": {},
   "outputs": [
    {
     "name": "stdout",
     "output_type": "stream",
     "text": [
      "key: Россия\n",
      "item: {'city': 'Москва', 'country': 'Россия'}\n",
      "item: {'city': 'Новосибирск', 'country': 'Россия'}\n",
      "key: Китай\n",
      "item: {'city': 'Пекин', 'country': 'Китай'}\n"
     ]
    }
   ],
   "source": [
    "for key, group_items in groupby(data, key=grouper):\n",
    "    print('key: %s' % key)\n",
    "    for item in group_items:\n",
    "        print('item: %s' % item)"
   ]
  },
  {
   "cell_type": "markdown",
   "metadata": {},
   "source": [
    "select country, count() from data where city like 'M%' groupby country order country"
   ]
  },
  {
   "cell_type": "code",
   "execution_count": 29,
   "metadata": {},
   "outputs": [
    {
     "data": {
      "text/plain": [
       "<itertools.groupby at 0x1faaf496b60>"
      ]
     },
     "execution_count": 29,
     "metadata": {},
     "output_type": "execute_result"
    }
   ],
   "source": [
    "def grouper(item):\n",
    "    return item['country']\n",
    "\n",
    "data = [\n",
    "    {'city': 'Москва', 'country': 'Россия'},\n",
    "    {'city': 'Новосибирск', 'country': 'Россия'},\n",
    "    {'city': 'Пекин', 'country': 'Китай'}\n",
    "]\n",
    "\n",
    "groupby(data, key=grouper)"
   ]
  },
  {
   "cell_type": "code",
   "execution_count": 30,
   "metadata": {},
   "outputs": [
    {
     "name": "stdout",
     "output_type": "stream",
     "text": [
      "[{'city': 'Москва', 'country': 'Россия'}]\n",
      "key: Россия\n",
      "item: {'city': 'Москва', 'country': 'Россия'}\n"
     ]
    }
   ],
   "source": [
    "data = list(filter(lambda item: item['city'].startswith('М'), data))\n",
    "print(data)\n",
    "data = sorted(data, key=grouper)\n",
    "for key, group_items in groupby(data, key=grouper):\n",
    "    print('key: %s' % key)\n",
    "    for item in group_items:\n",
    "        print('item: %s' % item)"
   ]
  }
 ],
 "metadata": {
  "kernelspec": {
   "display_name": "Python 3",
   "language": "python",
   "name": "python3"
  },
  "language_info": {
   "codemirror_mode": {
    "name": "ipython",
    "version": 3
   },
   "file_extension": ".py",
   "mimetype": "text/x-python",
   "name": "python",
   "nbconvert_exporter": "python",
   "pygments_lexer": "ipython3",
   "version": "3.11.7"
  }
 },
 "nbformat": 4,
 "nbformat_minor": 2
}
