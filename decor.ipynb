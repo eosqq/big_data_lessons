{
 "cells": [
  {
   "cell_type": "code",
   "execution_count": 1,
   "metadata": {},
   "outputs": [],
   "source": [
    "import functools"
   ]
  },
  {
   "cell_type": "code",
   "execution_count": null,
   "metadata": {},
   "outputs": [],
   "source": [
    "def print_args(func):\n",
    "    @functools.wrap(func)\n",
    "    def wrapper(*args, **kwargs):\n",
    "        print(f'args={args}')\n",
    "        print(f'kwargs={kwargs}')\n",
    "        print(f'result={result}')\n",
    "        return result\n",
    "    return wrapper\n",
    "\n",
    "def sum_list(func):\n",
    "    @functools.wrap(func)\n",
    "    def wrapper(*args, **kwargs):\n",
    "        print(f'args={args}')\n",
    "        print(f'kwargs={kwargs}')\n",
    "        print(f'result={result}')\n",
    "        return result\n",
    "    return wrapper\n",
    "\n",
    "@print_args\n",
    "@sum_list\n",
    "\n",
    "def sum(a = [1, 2, 3], b =[4, 5, 6]):\n",
    "    return a + b\n",
    "\n"
   ]
  }
 ],
 "metadata": {
  "kernelspec": {
   "display_name": "Python 3",
   "language": "python",
   "name": "python3"
  },
  "language_info": {
   "codemirror_mode": {
    "name": "ipython",
    "version": 3
   },
   "file_extension": ".py",
   "mimetype": "text/x-python",
   "name": "python",
   "nbconvert_exporter": "python",
   "pygments_lexer": "ipython3",
   "version": "3.11.7"
  }
 },
 "nbformat": 4,
 "nbformat_minor": 2
}
